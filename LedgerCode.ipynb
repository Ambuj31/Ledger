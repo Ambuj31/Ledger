{
  "nbformat": 4,
  "nbformat_minor": 0,
  "metadata": {
    "colab": {
      "provenance": []
    },
    "kernelspec": {
      "name": "python3",
      "display_name": "Python 3"
    },
    "language_info": {
      "name": "python"
    }
  },
  "cells": [
    {
      "cell_type": "code",
      "source": [
        "!pip install PyPDF2"
      ],
      "metadata": {
        "colab": {
          "base_uri": "https://localhost:8080/"
        },
        "id": "caWyiaq6u0QJ",
        "outputId": "d939d934-b851-4735-e543-d4cdfb15c5ea"
      },
      "execution_count": null,
      "outputs": [
        {
          "output_type": "stream",
          "name": "stdout",
          "text": [
            "Collecting PyPDF2\n",
            "  Downloading pypdf2-3.0.1-py3-none-any.whl (232 kB)\n",
            "\u001b[?25l     \u001b[90m━━━━━━━━━━━━━━━━━━━━━━━━━━━━━━━━━━━━━━━━\u001b[0m \u001b[32m0.0/232.6 kB\u001b[0m \u001b[31m?\u001b[0m eta \u001b[36m-:--:--\u001b[0m\r\u001b[2K     \u001b[91m━━━━━━━━━━━━━━━━━━━━━\u001b[0m\u001b[90m╺\u001b[0m\u001b[90m━━━━━━━━━━━━━━━━━━\u001b[0m \u001b[32m122.9/232.6 kB\u001b[0m \u001b[31m3.5 MB/s\u001b[0m eta \u001b[36m0:00:01\u001b[0m\r\u001b[2K     \u001b[90m━━━━━━━━━━━━━━━━━━━━━━━━━━━━━━━━━━━━━━━━\u001b[0m \u001b[32m232.6/232.6 kB\u001b[0m \u001b[31m4.4 MB/s\u001b[0m eta \u001b[36m0:00:00\u001b[0m\n",
            "\u001b[?25hInstalling collected packages: PyPDF2\n",
            "Successfully installed PyPDF2-3.0.1\n"
          ]
        }
      ]
    },
    {
      "cell_type": "code",
      "execution_count": null,
      "metadata": {
        "id": "TmjmlblPp0k3"
      },
      "outputs": [],
      "source": [
        "import pandas\n",
        "import numpy\n",
        "import PyPDF2\n",
        "import csv\n",
        "from PyPDF2 import PdfReader"
      ]
    },
    {
      "cell_type": "code",
      "source": [
        "def read_pdf_and_save_to_csv(pdf_path, csv_path):\n",
        "    # Open the PDF file\n",
        "    with open(pdf_path, 'rb') as pdf_file:\n",
        "        # Create a PDF reader objectt65\n",
        "        pdf_reader = PdfReader(pdf_file)\n",
        "\n",
        "        # Get the number of pages in the PDF\n",
        "        num_pages = len(pdf_reader.pages)\n",
        "\n",
        "        # Initialize a CSV writer\n",
        "        with open(csv_path, 'w', newline='', encoding='utf-8') as csv_file:\n",
        "            csv_writer = csv.writer(csv_file)\n",
        "\n",
        "            # Loop through all pages in the PDF\n",
        "            for page_num in range(num_pages):\n",
        "                # Extract text from the current page\n",
        "                page = pdf_reader.pages[page_num]\n",
        "                text = page.extract_text()\n",
        "\n",
        "                # Split the text into lines\n",
        "                lines = text.split('\\n')\n",
        "\n",
        "                # Write each line to the CSV file\n",
        "                for line in lines:\n",
        "                    # You may need to customize the delimiter based on the actual structure of your PDF\n",
        "                    csv_writer.writerow([line])\n",
        "\n",
        "if __name__ == \"__main__\":\n",
        "    # Replace 'input.pdf' and 'output.csv' with your actual file names\n",
        "    read_pdf_and_save_to_csv('/content/input.pdf', 'output.csv')\n"
      ],
      "metadata": {
        "id": "2EItNOYruky5"
      },
      "execution_count": null,
      "outputs": []
    },
    {
      "cell_type": "code",
      "source": [
        "import csv\n",
        "import re\n",
        "\n",
        "def extract_data_from_csv(csv_path):\n",
        "    with open(csv_path, 'rb', newline='', encoding='utf-8') as csv_file:\n",
        "        csv_reader = csv.reader(csv_file)\n",
        "\n",
        "        # Initialize variables to store extracted data\n",
        "        found_cgpa_section = False\n",
        "        extracted_data = []\n",
        "\n",
        "        # Define the regex pattern for the delimiter \"....\"\n",
        "        delimiter_pattern = re.compile(r'\\.{4,}')\n",
        "\n",
        "\n",
        "\n",
        "        for row in csv_reader:\n",
        "            # Check if the row contains the CGPA section pattern\n",
        "            if re.search(r'TOTAL CREDITS EARNED : \\d+ TOTAL GRADE POINTS EARNED : \\d+ FINAL CGPA : [\\d.]+', ' '.join(row)):\n",
        "                found_cgpa_section = True\n",
        "                print(found_cgpa_section)\n",
        "                continue\n",
        "\n",
        "            # Check if the row contains the delimiter \"....\" using the regex pattern\n",
        "            if delimiter_pattern.search(' '.join(row)):\n",
        "                # If CGPA section was found, append the extracted data to the result\n",
        "                if found_cgpa_section:\n",
        "                    break  # Exit the loop after finding the next delimiter\n",
        "                else:\n",
        "                    continue  # Skip rows until CGPA section is found\n",
        "\n",
        "            # Append the row to the extracted data if CGPA section has been found\n",
        "            if found_cgpa_section:\n",
        "              print(row)\n",
        "              extracted_data.append(row)\n",
        "\n",
        "        return extracted_data\n",
        "\n",
        "if __name__ == \"__main__\":\n",
        "    # Replace 'input.csv' with your actual file name\n",
        "    csv_path = '/content/input.csv'\n",
        "\n",
        "    # Extract data based on the specified conditions\n",
        "    extracted_data = extract_data_from_csv(csv_path)\n",
        "\n",
        "    # Print the extracted data\n",
        "    for row in extracted_data:\n",
        "        print(' '.join(row))\n"
      ],
      "metadata": {
        "colab": {
          "base_uri": "https://localhost:8080/",
          "height": 347
        },
        "id": "yfmU2Zgz3uJW",
        "outputId": "fd515783-ff2f-4350-ed41-6f44a0fa374a"
      },
      "execution_count": null,
      "outputs": [
        {
          "output_type": "error",
          "ename": "ValueError",
          "evalue": "binary mode doesn't take an encoding argument",
          "traceback": [
            "\u001b[0;31m---------------------------------------------------------------------------\u001b[0m",
            "\u001b[0;31mValueError\u001b[0m                                Traceback (most recent call last)",
            "\u001b[0;32m<ipython-input-7-07f98f0b9cfb>\u001b[0m in \u001b[0;36m<cell line: 39>\u001b[0;34m()\u001b[0m\n\u001b[1;32m     42\u001b[0m \u001b[0;34m\u001b[0m\u001b[0m\n\u001b[1;32m     43\u001b[0m     \u001b[0;31m# Extract data based on the specified conditions\u001b[0m\u001b[0;34m\u001b[0m\u001b[0;34m\u001b[0m\u001b[0m\n\u001b[0;32m---> 44\u001b[0;31m     \u001b[0mextracted_data\u001b[0m \u001b[0;34m=\u001b[0m \u001b[0mextract_data_from_csv\u001b[0m\u001b[0;34m(\u001b[0m\u001b[0mcsv_path\u001b[0m\u001b[0;34m)\u001b[0m\u001b[0;34m\u001b[0m\u001b[0;34m\u001b[0m\u001b[0m\n\u001b[0m\u001b[1;32m     45\u001b[0m \u001b[0;34m\u001b[0m\u001b[0m\n\u001b[1;32m     46\u001b[0m     \u001b[0;31m# Print the extracted data\u001b[0m\u001b[0;34m\u001b[0m\u001b[0;34m\u001b[0m\u001b[0m\n",
            "\u001b[0;32m<ipython-input-7-07f98f0b9cfb>\u001b[0m in \u001b[0;36mextract_data_from_csv\u001b[0;34m(csv_path)\u001b[0m\n\u001b[1;32m      3\u001b[0m \u001b[0;34m\u001b[0m\u001b[0m\n\u001b[1;32m      4\u001b[0m \u001b[0;32mdef\u001b[0m \u001b[0mextract_data_from_csv\u001b[0m\u001b[0;34m(\u001b[0m\u001b[0mcsv_path\u001b[0m\u001b[0;34m)\u001b[0m\u001b[0;34m:\u001b[0m\u001b[0;34m\u001b[0m\u001b[0;34m\u001b[0m\u001b[0m\n\u001b[0;32m----> 5\u001b[0;31m     \u001b[0;32mwith\u001b[0m \u001b[0mopen\u001b[0m\u001b[0;34m(\u001b[0m\u001b[0mcsv_path\u001b[0m\u001b[0;34m,\u001b[0m \u001b[0;34m'rb'\u001b[0m\u001b[0;34m,\u001b[0m \u001b[0mnewline\u001b[0m\u001b[0;34m=\u001b[0m\u001b[0;34m''\u001b[0m\u001b[0;34m,\u001b[0m \u001b[0mencoding\u001b[0m\u001b[0;34m=\u001b[0m\u001b[0;34m'utf-8'\u001b[0m\u001b[0;34m)\u001b[0m \u001b[0;32mas\u001b[0m \u001b[0mcsv_file\u001b[0m\u001b[0;34m:\u001b[0m\u001b[0;34m\u001b[0m\u001b[0;34m\u001b[0m\u001b[0m\n\u001b[0m\u001b[1;32m      6\u001b[0m         \u001b[0mcsv_reader\u001b[0m \u001b[0;34m=\u001b[0m \u001b[0mcsv\u001b[0m\u001b[0;34m.\u001b[0m\u001b[0mreader\u001b[0m\u001b[0;34m(\u001b[0m\u001b[0mcsv_file\u001b[0m\u001b[0;34m)\u001b[0m\u001b[0;34m\u001b[0m\u001b[0;34m\u001b[0m\u001b[0m\n\u001b[1;32m      7\u001b[0m \u001b[0;34m\u001b[0m\u001b[0m\n",
            "\u001b[0;31mValueError\u001b[0m: binary mode doesn't take an encoding argument"
          ]
        }
      ]
    },
    {
      "cell_type": "code",
      "source": [
        "import csv\n",
        "import re\n",
        "\n",
        "def extract_data_and_write_to_csv(input_csv_path, output_csv_path):\n",
        "    with open(input_csv_path, 'r', newline='', encoding='utf-8') as csv_file:\n",
        "        csv_reader = csv.reader(csv_file)\n",
        "\n",
        "        # Initialize variables to store extracted data\n",
        "        found_cgpa_section = False\n",
        "        extracted_data = []\n",
        "\n",
        "        # Define the regex pattern for the delimiter \"....\"\n",
        "        delimiter_pattern = re.compile(r'\\.{4,}')\n",
        "\n",
        "        for row in csv_reader:\n",
        "            print(row)\n",
        "            # Check if the row contains the CGPA section pattern\n",
        "            if re.search(r'TOTAL CREDITS EARNED : \\d+ TOTAL GRADE POINTS EARNED : \\d+ FINAL CGPA : [\\d.]+', ' '.join(row)):\n",
        "                found_cgpa_section = True\n",
        "                print(found_cgpa_section)\n",
        "                continue\n",
        "\n",
        "            # Check if the row contains the delimiter \"....\" using the regex pattern\n",
        "            if delimiter_pattern.search(' '.join(row)):\n",
        "                # If CGPA section was found, append the extracted data to the result\n",
        "                if found_cgpa_section:\n",
        "                    break  # Exit the loop after finding the next delimiter\n",
        "                else:\n",
        "                    continue  # Skip rows until CGPA section is found\n",
        "\n",
        "            # Append the row to the extracted data if CGPA section has been found\n",
        "            if found_cgpa_section:\n",
        "              extracted_data.append([row[0]]) # Store only in the A column\n",
        "              print(extracted_data)\n",
        "\n",
        "    # Write the extracted data to a new CSV file\n",
        "    with open(output_csv_path, 'w', newline='', encoding='utf-8') as output_csv:\n",
        "        csv_writer = csv.writer(output_csv)\n",
        "        csv_writer.writerows(extracted_data)\n",
        "\n",
        "if __name__ == \"__main__\":\n",
        "    # Replace 'input.csv' and 'output.csv' with your actual file names\n",
        "    input_csv_path = '/content/input.csv'\n",
        "    output_csv_path = 'output.csv'\n",
        "\n",
        "    # Extract data and write to a new CSV file\n",
        "    extract_data_and_write_to_csv(input_csv_path, output_csv_path)\n"
      ],
      "metadata": {
        "colab": {
          "base_uri": "https://localhost:8080/"
        },
        "id": "oDupv1NU5MEK",
        "outputId": "7d13f3be-0891-41e6-99c5-1ac345c47739"
      },
      "execution_count": null,
      "outputs": [
        {
          "output_type": "stream",
          "name": "stdout",
          "text": [
            "['\\ufeffFormat No.: MITAOE/EXAM/F/25                                                                                                                          Rev.No.:00                                                                                                                                                                                           Rev.Date:01/12/2017']\n",
            "['MIT ACADEMY OF ENGINEERING']\n",
            "['(AN AUTONOMOUS INSTITUTE AFFILIATED TO SAVITRIBAI PHULE PUNE UNIVERSITY)']\n",
            "['DATE: 16 SEP 2022                                                                      LEDGER OF GRADES FOR SEMESETER - I TO SEMESTER - VIII                                                                                                    PAGE NO.  1']\n",
            "['. . . . . . . . . . . . . . . . . . . . . . . . . . . . . . . . . . . . . . . . . . . . . . . . . . . . . . . . . . . . . . . . . . . . . . . . . . . . . . . . . . . . . . . . . . . . . . . . . . . . . . . . . . . . . . . . . . . . . . . . . . . . . . . . . . . . . . . . . . . . . . . . . . . . . . . . . . . . . . . . . . . . . . . . . . . . . . . . . . . . . . . . . . . . . . . . . . . . . . . . . . . . . . . . .   ']\n",
            "[\"          NOTE: FIRST LINE :      SEAT NO.,                NAME OF THE CANDIDATE,     MOTHER'S NAME,            PERMANENT REG. NO. \"]\n",
            "['          OTHER LINES:              COURSE.CODE,      COURSE.NAME,                         EARNED CREDITS,          EARNED GRADE         EARNED GRADE POINTS']\n",
            "['. . . . . . . . . . . . . . . . . . . . . . . . . . . . . . . . . . . . . . . . . . . . . . . . . . . . . . . . . . . . . . . . . . . . . . . . . . . . . . . . . . . . . . . . . . . . . . . . . . . . . . . . . . . . . . . . . . . . . . . . . . . . . . . . . . . . . . . . . . . . . . . . . . . . . . . . . . . . . . . . . . . . . . . . . . . . . . . . . . . . . . . . . . . . . . . . . . . . . . . . . . . . . . . . .   ']\n",
            "['F181030 KAJALE HRISHIKESH SANJAY SANGITA 0120180034']\n",
            "['SEMESTER - I']\n",
            "['AS101T MATHEMATICS - I 4 CD 20 AS102L PHYSICS 1 BB 08']\n",
            "['AS101U MATHEMATICS - I 1 AA 10 AS102T PHYSICS 3 CC 18']\n",
            "['AS103L CHEMISTRY 1 AA 10 AS104T MATHEMATICS - II 4 AA$40']\n",
            "['AS103T CHEMISTRY 3 CC 18 AS104U MATHEMATICS - II 1 AB 09']\n",
            "['CV101L APPLIED MECHANICS 1 BB 08 EX101L ELECTRICAL AND ELECTRONICS ENGINEERING 1 BB 08']\n",
            "['CV101T APPLIED MECHANICS 3 AA$30 EX101T ELECTRICAL AND ELECTRONICS ENGINEERING 3 DD#12']\n",
            "['HP101L LANGUAGE AND COMMUNICATION - I 1 AA 10 HP102L LANGUAGE AND COMMUNICATION - II 1 AA 10']\n",
            "['HP101T LANGUAGE AND COMMUNICATION - I 1 BB 08 HP102T LANGUAGE AND COMMUNICATION - II 1 BB 08']\n",
            "['IT101L COMPUTER PROGRAMMING 2 DD 08 ME101L ENGINEERING GRAPHICS 2 AB 18']\n",
            "['IT101T COMPUTER PROGRAMMING 2 CC 12 ME101T ENGINEERING GRAPHICS 2 BC 14']\n",
            "['ME103L DESIGN THINKING 2 AB 18 ME102L EXPERIMENTAL TOOLS AND TECHNIQUES 2 AB 18']\n",
            "['TOTAL CREDITS EARNED: 21 TOTAL GRADE POINTS EARNED: 152 S.G.P.A.: 7.24 TOTAL CREDITS EARNED: 21 TOTAL GRADE POINTS EARNED: 163 S.G.P.A.: 7.76']\n",
            "['. . . . . . . . . . . . . . . . . . . . . . . . . . . . . . . . . . . . . . . . . . . . . . . . . . . . . . . . . . . . . . . . . . . . . . . . . . . . . . . . . . . . . . . . . . . . . . . . . . . . . . . . . . . . . . . . . . . . . . . . . . . . . . . . . . . . . . . . . . . . . . . . . . . . . . . . . . . . . . . . . . . . . . . . . . . . . . . . ... . . . . . . . . . . .   ']\n",
            "['S193001 KAJALE HRISHIKESH SANJAY SANGITA 0120180034 BRANCH : CIVIL ENGINEERING']\n",
            "['SEMESTER - III SEMESTER - IV']\n",
            "['CV201L CONTINUUM MECHANICS OF SOLIDS 1 BB 08 AS201L APPLIED MATHEMATICS 1 AA 10']\n",
            "['CV201T CONTINUUM MECHANICS OF SOLIDS 3 AB* 27 AS201T APPLIED MATHEMATICS 3 DD 12']\n",
            "['CV202L GEOSPATIAL ENGINEERING TECHNOLOGY 1 BB 08 CH201L ENVIRONMENTAL SCIENCE 1 AA 10']\n",
            "['CV202T GEOSPATIAL ENGINEERING TECHNOLOGY 3 AA* 30 CH201T ENVIRONMENTAL SCIENCE 2 AA 20']\n",
            "['ET206L PROTOTYPING 2 AB 18 CV211L BUILDING DESIGN AND CONSTRUCTION 1 BC 07']\n",
            "['HP201T PSYCHOLOGY 3 CC* 18 CV211T BUILDING DESIGN AND CONSTRUCTION 3 BB 24']\n",
            "['IT201L ENGINEERING INFORMATICS 1 BB 08 CV212L GEOTECHNICAL ENGINEERING 1 AB 09']\n",
            "['IT201T ENGINEERING INFORMATICS 3 CD 15 CV212T GEOTECHNICAL ENGINEERING 3 BC 21']\n",
            "['ME201L MATERIAL ENGINEERING 1 AA 10 CV213L MINOR PROJECT 2 BB 16']\n",
            "['ME201T MATERIAL ENGINEERING 3 CD 15 ET201L SYSTEM ENGINEERING 1 AB 09']\n",
            "['ET201T SYSTEM ENGINEERING 3 CD 15']\n",
            "['TOTAL CREDITS EARNED: 21 TOTAL GRADE POINTS EARNED: 157 S.G.P.A.: 7.48 TOTAL CREDITS EARNED: 21 TOTAL GRADE POINTS EARNED: 153 S.G.P.A.: 7.29']\n",
            "['. . . . . . . . . . . . . . . . . . . . . . . . . . . . . . . . . . . . . . . . . . . . . . . . . . . . . . . . . . . . . . . . . . . . . . . . . . . . . . . . . . . . . . . . . . . . . . . . . . . . . . . . . . . . . . . . . . . . . . . . . . . . . . . . . . . . . . . . . . . . . . . . . . . . . . . . . . . . . . . . . . . . . . . . . . . . . . . . ... . . . . . . . . . . . . . . . .  ']\n",
            "['Format No.: MITAOE/EXAM/F/25                                                                                                                          Rev.No.:00                                                                                                                                                                                           Rev.Date:01/12/2017']\n",
            "['MIT ACADEMY OF ENGINEERING']\n",
            "['(AN AUTONOMOUS INSTITUTE AFFILIATED TO SAVITRIBAI PHULE PUNE UNIVERSITY)']\n",
            "['DATE: 16 SEP 2022                                                                      LEDGER OF GRADES FOR SEMESETER - I TO SEMESTER - VIII                                                                                                    PAGE NO.  2']\n",
            "['. . . . . . . . . . . . . . . . . . . . . . . . . . . . . . . . . . . . . . . . . . . . . . . . . . . . . . . . . . . . . . . . . . . . . . . . . . . . . . . . . . . . . . . . . . . . . . . . . . . . . . . . . . . . . . . . . . . . . . . . . . . . . . . . . . . . . . . . . . . . . . . . . . . . . . . . . . . . . . . . . . . . . . . . . . . . . . . . . . . . . . . . . . . . . . . . . . . . . . . . . . . . . . . . .   ']\n",
            "[\"          NOTE: FIRST LINE :      SEAT NO.,                NAME OF THE CANDIDATE,     MOTHER'S NAME,            PERMANENT REG. NO. \"]\n",
            "['          OTHER LINES:              COURSE.CODE,      COURSE.NAME,                         EARNED CREDITS,          EARNED GRADE         EARNED GRADE POINTS']\n",
            "['. . . . . . . . . . . . . . . . . . . . . . . . . . . . . . . . . . . . . . . . . . . . . . . . . . . . . . . . . . . . . . . . . . . . . . . . . . . . . . . . . . . . . . . . . . . . . . . . . . . . . . . . . . . . . . . . . . . . . . . . . . . . . . . . . . . . . . . . . . . . . . . . . . . . . . . . . . . . . . . . . . . . . . . . . . . . . . . . . . . . . . . . . . . . . . . . . . . . . . . . . . . . . . . . .   ']\n",
            "['T203001 KAJALE HRISHIKESH SANJAY SANGITA 0120180034 BRANCH : CIVIL ENGINEERING']\n",
            "['SEMESTER - V SEMESTER - VI']\n",
            "['CV301L MECHANICS OF FLUIDS 1 AA 10  CV321L DESIGN OF STRUCTURES 1 CC 06']\n",
            "['CV301T MECHANICS OF FLUIDS 3 AB 27  CV321T DESIGN OF STRUCTURES 3 CC 18']\n",
            "['CV302L STRUCTURAL ANALYSIS 1 CC 06  CV322L TRANSPORTATION ENGINEERING 1 BB 08']\n",
            "['CV302T STRUCTURAL ANALYSIS 3 BC 21  CV322T TRANPORTATION ENGINEERING 3 BC 21']\n",
            "['CV303L CONCRETE TECHNOLOGY 1 AB 09  CV323L WATER RESOURCES ENGINEERING 1 CC 06']\n",
            "['CV303T CONCRETE TECHNOLOGY 3 AB 27  CV323T WATER RESOURCES ENGINEERING 3 BB 24']\n",
            "['CV304L ETABS (SKILL DEVELOPMENT LAB) 2 AB 18  CV324L MINI PROJECT 2 BB 16']\n",
            "['CV311L CONSTRUCTION PLANNING & MANAGEMENT 1 AA 10  CV331L OPERATION RESEARCH TECHNIQUES IN CIVIL ENGG 1 AB 09']\n",
            "['CV311T CONSTRUCTION PLANNING & MANAGEMENT 3 AA 30  CV331T OPERATION RESEARCH TECHNIQUES IN CIVIL ENGG 3 AB 27']\n",
            "['HP301L PROJECT MANAGEMENT 1 AB 09  HP302L PROFESSIONAL SKILLS 2 BB 16']\n",
            "['HP301T PROJECT MANAGEMENT 1 BB 08  HP303L BASICS OF ENTREPRENEURSHIP 1 AB 09']\n",
            "['TOTAL CREDITS EARNED: 20 TOTAL GRADE POINTS EARNED: 175 S.G.P.A.: 8.75 TOTAL CREDITS EARNED: 21 TOTAL GRADE POINTS EARNED: 160 S.G.P.A.: 7.62']\n",
            "['. . . . . . . . . . . . . . . . . . . . . . . . . . . . . . . . . . . . . . . . . . . . . . . . . . . . . . . . . . . . . . . . . . . . . . . . . . . . . . . . . . . . . . . . . . . . . . . . . . . . . . . . . . . . . . . . . . . . . . . . . . . . . . . . . . . . . . . . . . . . . . . . . . . . . . . . . . . . . . . . . . . . . . . . . . . . . . . . ... . . . . . . . . . . . . . . . .  ']\n",
            "['B213001 KAJALE HRISHIKESH SANJAY SANGITA 0120180034 BRANCH : CIVIL ENGINEERING']\n",
            "['SEMESTER - VII SEMESTER - VIII']\n",
            "['CV401L DRINKING WATER & SANITARY ENGINEERING 1 BC 07 CV431L ESTIMATION AND COSTING 1 AA 10']\n",
            "['CV401T DRINKING WATER & SANITARY ENGINEERING 3 DD 12 CV431T ESTIMATION AND COSTING 3 AA 30']\n",
            "['CV402L PROJECT - I 4 DD 16 CV433L SKILL DEVELOPMENT COURSE - CFD 3 AA 30']\n",
            "['CV403L URBAN & TOWN PLANNING 1 BC 07 CV434L SKILL DEVELOPMENT COURSE - QGIS 3 AB 27']\n",
            "['CV404L SUMMER INTERNSHIP 4 AB 36 CV451L STATISTICAL METHODS IN CONSTRUCTION 1 BC 07']\n",
            "['CV413T RAILWAY ENGINEERING 3 DD 12 CV451T STATISTICAL METHODS IN CONSTRUCTION 3 BC 21']\n",
            "['CV421L FINANCIAL MANAGEMENT 1 AB 09 CV462T MAINTENANCE AND REPAIR OF CONCRETE STRUCTURES 3 CC*18']\n",
            "['CV421T FINANCIAL MANAGEMENT 3 CC 18']\n",
            "['HP401T ENGINEERING ECONOMICS 2 CC 12']\n",
            "['TOTAL CREDITS EARNED: 22 TOTAL GRADE POINTS EARNED: 129 S.G.P.A.: 5.86 TOTAL CREDITS EARNED: 17 TOTAL GRADE POINTS EARNED: 143 S.G.P.A.: 8.41']\n",
            "['. . . . . . . . . . . . . . . . . . . . . . . . . . . . . . . . . . . . . . . . . . . . . . . . . . . . . . . . . . . . . . . . . . . . . . . . . . . . . . . . . . . . . . . . . . . . . . . . . . . . . . . . . . . . . . . . . . . . . . . . . . . . . . . . . . . . . . . . . . . . . . . . . . . . . . . . . . . . . . . . . . . . . . . . . . . . . . . . ... . . . . . . . . . . . . . . . .  ']\n",
            "['TOTAL CREDITS EARNED : 164 TOTAL GRADE POINTS EARNED : 1232 FINAL CGPA : 7.55']\n",
            "True\n"
          ]
        }
      ]
    },
    {
      "cell_type": "code",
      "source": [],
      "metadata": {
        "id": "0f996fhD6y3z"
      },
      "execution_count": null,
      "outputs": []
    }
  ]
}